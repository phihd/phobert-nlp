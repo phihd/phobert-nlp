{
 "cells": [
  {
   "cell_type": "code",
   "execution_count": 1,
   "id": "a5f54296",
   "metadata": {},
   "outputs": [],
   "source": [
    "import os\n",
    "import numpy as np\n",
    "import random"
   ]
  },
  {
   "cell_type": "code",
   "execution_count": 2,
   "id": "69ddcc04",
   "metadata": {},
   "outputs": [],
   "source": [
    "cwd = os.getcwd()\n",
    "train_path = cwd+'/train'\n",
    "test_path = cwd+'/test'"
   ]
  },
  {
   "cell_type": "code",
   "execution_count": 3,
   "id": "e1eedbe1",
   "metadata": {},
   "outputs": [
    {
     "name": "stdout",
     "output_type": "stream",
     "text": [
      "16858\n",
      "2831\n"
     ]
    }
   ],
   "source": [
    "def summarize_sentences(path):\n",
    "    filtered_sentences = []\n",
    "    for filename in os.listdir(path):\n",
    "        with open(os.path.join(path, filename), encoding=\"utf8\") as f:\n",
    "            txt = f.read().split('\\n')\n",
    "\n",
    "        in_sentence = False   # determine if a row is in a sentence\n",
    "        for row in txt:\n",
    "            # start of a sentence\n",
    "            if row.startswith('<s>'):\n",
    "                filtered_rows = []\n",
    "                in_sentence = True\n",
    "\n",
    "            # end of a sentnece\n",
    "            elif row.startswith('</s>'):\n",
    "                filtered_sentences.append(filtered_rows)\n",
    "                in_sentence = False\n",
    "\n",
    "            elif in_sentence:\n",
    "                filtered_rows.append(row)\n",
    "    return filtered_sentences\n",
    "    \n",
    "            \n",
    "train_sentences = summarize_sentences(train_path)\n",
    "test_sentences = summarize_sentences(test_path)\n",
    "\n",
    "print(len(train_sentences))\n",
    "print(len(test_sentences))"
   ]
  },
  {
   "cell_type": "code",
   "execution_count": 4,
   "id": "e74b3f72",
   "metadata": {
    "scrolled": false
   },
   "outputs": [
    {
     "name": "stdout",
     "output_type": "stream",
     "text": [
      "14027\n",
      "2831\n"
     ]
    },
    {
     "name": "stderr",
     "output_type": "stream",
     "text": [
      "C:\\Users\\ACER\\Anaconda3\\lib\\site-packages\\ipykernel_launcher.py:3: VisibleDeprecationWarning: Creating an ndarray from ragged nested sequences (which is a list-or-tuple of lists-or-tuples-or ndarrays with different lengths or shapes) is deprecated. If you meant to do this, you must specify 'dtype=object' when creating the ndarray.\n",
      "  This is separate from the ipykernel package so we can avoid doing imports until\n",
      "C:\\Users\\ACER\\Anaconda3\\lib\\site-packages\\ipykernel_launcher.py:4: VisibleDeprecationWarning: Creating an ndarray from ragged nested sequences (which is a list-or-tuple of lists-or-tuples-or ndarrays with different lengths or shapes) is deprecated. If you meant to do this, you must specify 'dtype=object' when creating the ndarray.\n",
      "  after removing the cwd from sys.path.\n"
     ]
    }
   ],
   "source": [
    "# Split train data into train-dev\n",
    "dev_index = random.sample(range(0, len(train_sentences)), 2831)\n",
    "dev_sentences = np.array(train_sentences)[dev_index]\n",
    "train_sentences = np.delete(np.array(train_sentences), dev_index)\n",
    "\n",
    "print(len(train_sentences))\n",
    "print(len(dev_sentences))"
   ]
  },
  {
   "cell_type": "code",
   "execution_count": 5,
   "id": "6dc0e261",
   "metadata": {},
   "outputs": [],
   "source": [
    "def write(sentences, filename):\n",
    "    textfile = open(filename, \"w\", encoding='utf-8')\n",
    "    for element in sentences:\n",
    "        for hihi in element:\n",
    "            textfile.write(hihi + \"\\n\")\n",
    "        textfile.write(\"\\n\")\n",
    "\n",
    "write(train_sentences, 'train.txt')\n",
    "write(dev_sentences, 'dev.txt')\n",
    "write(test_sentences, 'test.txt')"
   ]
  }
 ],
 "metadata": {
  "kernelspec": {
   "display_name": "Python 3",
   "language": "python",
   "name": "python3"
  },
  "language_info": {
   "codemirror_mode": {
    "name": "ipython",
    "version": 3
   },
   "file_extension": ".py",
   "mimetype": "text/x-python",
   "name": "python",
   "nbconvert_exporter": "python",
   "pygments_lexer": "ipython3",
   "version": "3.7.3"
  }
 },
 "nbformat": 4,
 "nbformat_minor": 5
}

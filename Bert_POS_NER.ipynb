{
 "cells": [
  {
   "cell_type": "code",
   "execution_count": 1,
   "id": "introductory-boating",
   "metadata": {},
   "outputs": [],
   "source": [
    "skip_training = False  # Set this flag to True to skip training the model"
   ]
  },
  {
   "cell_type": "code",
   "execution_count": 2,
   "id": "black-legislature",
   "metadata": {},
   "outputs": [],
   "source": [
    "import torch\n",
    "import torch.nn as nn\n",
    "import torch.nn.functional as F\n",
    "import torch.optim as optim\n",
    "\n",
    "from transformers import BertTokenizer, BertModel, AutoModel, AutoTokenizer\n",
    "from torch.utils.data import Dataset, DataLoader\n",
    "\n",
    "import pandas as pd\n",
    "\n",
    "import numpy as np\n",
    "\n",
    "import time\n",
    "import random\n",
    "import functools\n",
    "import os"
   ]
  },
  {
   "cell_type": "markdown",
   "id": "e3d06f24",
   "metadata": {},
   "source": [
    "Material:  \n",
    "https://www.vinai.io/phobert-the-first-public-large-scale-language-models-for-vietnamese"
   ]
  },
  {
   "cell_type": "markdown",
   "id": "popular-wrist",
   "metadata": {},
   "source": [
    "# 1. Read the data"
   ]
  },
  {
   "cell_type": "markdown",
   "id": "satellite-commission",
   "metadata": {},
   "source": [
    "https://github.com/datquocnguyen/VnDT#data-split"
   ]
  },
  {
   "cell_type": "markdown",
   "id": "sticky-berry",
   "metadata": {},
   "source": [
    "https://github.com/datquocnguyen/VnDT/blob/master/VnDT-paper-CameraReadyVersion.pdf"
   ]
  },
  {
   "cell_type": "markdown",
   "id": "corrected-manner",
   "metadata": {},
   "source": [
    "## 1.1 Read the tags"
   ]
  },
  {
   "cell_type": "code",
   "execution_count": 3,
   "id": "temporal-career",
   "metadata": {},
   "outputs": [],
   "source": [
    "import re\n",
    "def read_1(file_name):\n",
    "    with open(file_name, encoding='utf8') as f:\n",
    "        # line = ['Np Proper noun','Nc Classifier noun',...]\n",
    "        lines = re.split('\\n',f.read())\n",
    "    \n",
    "    tags = []\n",
    "    tag_dict = {}\n",
    "    for line in lines:\n",
    "        tmp = line.split(' ',1)\n",
    "        tags.append(tmp[0])\n",
    "        tag_dict[tmp[0]] = tmp[1]\n",
    "        \n",
    "    return tags, tag_dict"
   ]
  },
  {
   "cell_type": "markdown",
   "id": "reverse-sugar",
   "metadata": {},
   "source": [
    "## 1.2 Read train - dev - test corpuses"
   ]
  },
  {
   "cell_type": "code",
   "execution_count": 4,
   "id": "violent-proxy",
   "metadata": {},
   "outputs": [],
   "source": [
    "import re\n",
    "def read_2(file_name):\n",
    "    \"\"\"\n",
    "    Parameters\n",
    "    ----------\n",
    "    file_name - string\n",
    "        a path to a file with an annotated corpus\n",
    "    \n",
    "    Returns \n",
    "    -------\n",
    "    words - a list of lists of words\n",
    "    tags - a list of lists of tags\n",
    "        For example, the first sentence in a file is word1-tag1, word2-tag2 \n",
    "        and the next sentence is word3_/_tag3. Then you should get:\n",
    "        words = [['word1','word2'],['word3']]\n",
    "        tags = [['tag1','tag2'],['tag3']]\n",
    "    \"\"\"\n",
    "    \n",
    "    df = pd.read_csv(file_name, sep='\\t|\\n', names = ['idx','word','c3','c4','tag','c6','c7','c8','c9','c10'])\n",
    "    \n",
    "    words = []\n",
    "    tags = []\n",
    "    sentence_words = []\n",
    "    sentence_tags = []\n",
    "    prev_idx = 0\n",
    "    for _,row in df.iterrows():\n",
    "        if row['idx'] != prev_idx+1:\n",
    "            words.append(sentence_words)\n",
    "            tags.append(sentence_tags)\n",
    "            sentence_words = []\n",
    "            sentence_tags = []\n",
    "            \n",
    "        sentence_words.append(row['word'])\n",
    "        sentence_tags.append(row['tag'])\n",
    "        prev_idx = row['idx']\n",
    "            \n",
    "    return words, tags"
   ]
  },
  {
   "cell_type": "markdown",
   "id": "obvious-haiti",
   "metadata": {},
   "source": [
    "## 1.3 Load the data"
   ]
  },
  {
   "cell_type": "code",
   "execution_count": 5,
   "id": "07fa0f27",
   "metadata": {},
   "outputs": [
    {
     "data": {
      "text/plain": [
       "'/m/home/home1/12/dangp1/unix/POS_NER'"
      ]
     },
     "execution_count": 5,
     "metadata": {},
     "output_type": "execute_result"
    }
   ],
   "source": [
    "cwd = os.getcwd()\n",
    "cwd"
   ]
  },
  {
   "cell_type": "code",
   "execution_count": 6,
   "id": "streaming-credits",
   "metadata": {
    "scrolled": true
   },
   "outputs": [
    {
     "name": "stderr",
     "output_type": "stream",
     "text": [
      "/u/12/dangp1/unix/.conda/envs/concac/lib/python3.8/site-packages/pandas/util/_decorators.py:311: ParserWarning: Falling back to the 'python' engine because the 'c' engine does not support regex separators (separators > 1 char and different from '\\s+' are interpreted as regex); you can avoid this warning by specifying engine='python'.\n",
      "  return func(*args, **kwargs)\n"
     ]
    },
    {
     "name": "stdout",
     "output_type": "stream",
     "text": [
      "8976\n",
      "199\n",
      "1019\n"
     ]
    }
   ],
   "source": [
    "tags_vocab_path = cwd+'/data/tags_vocab.txt'\n",
    "train_path = cwd+'/data/train.txt'\n",
    "valid_path = cwd+'/data/dev.txt'\n",
    "test_path = cwd+'/data/test.txt'\n",
    "\n",
    "tags_vocab, tags_vocab_dict = read_1(tags_vocab_path)\n",
    "train_words, train_tags = read_2(train_path)\n",
    "valid_words, valid_tags = read_2(valid_path)\n",
    "test_words, test_tags = read_2(test_path)\n",
    "\n",
    "print(len(train_words))\n",
    "print(len(valid_words))\n",
    "print(len(test_words))"
   ]
  },
  {
   "cell_type": "markdown",
   "id": "naval-recycling",
   "metadata": {},
   "source": [
    "## 1.4 Enumerate labels"
   ]
  },
  {
   "cell_type": "code",
   "execution_count": 7,
   "id": "municipal-jaguar",
   "metadata": {
    "scrolled": true
   },
   "outputs": [],
   "source": [
    "def tag2num(tags_vocab):\n",
    "    return dict(zip( tags_vocab, range(1, len(tags_vocab)+1) ))\n",
    "\n",
    "tag2num = tag2num(tags_vocab)"
   ]
  },
  {
   "cell_type": "code",
   "execution_count": 8,
   "id": "median-visitor",
   "metadata": {},
   "outputs": [],
   "source": [
    "def Enumerate_tags(sentence_tags, tag2num):\n",
    "    converted_tags = [ list(map(lambda x: tag2num[x], sentence_tag)) for sentence_tag in sentence_tags ]\n",
    "    return converted_tags\n",
    "\n",
    "enumerated_train_tags = Enumerate_tags(train_tags, tag2num)\n",
    "enumerated_valid_tags = Enumerate_tags(valid_tags, tag2num)\n",
    "enumerated_test_tags = Enumerate_tags(test_tags, tag2num)"
   ]
  },
  {
   "cell_type": "code",
   "execution_count": 9,
   "id": "african-biodiversity",
   "metadata": {},
   "outputs": [],
   "source": [
    "PAD_IDX = 0"
   ]
  },
  {
   "cell_type": "markdown",
   "id": "contemporary-capacity",
   "metadata": {},
   "source": [
    "# 2. Study the data"
   ]
  },
  {
   "cell_type": "markdown",
   "id": "adequate-recruitment",
   "metadata": {},
   "source": [
    "# 3. Encode"
   ]
  },
  {
   "cell_type": "code",
   "execution_count": 10,
   "id": "ahead-helicopter",
   "metadata": {},
   "outputs": [],
   "source": [
    "class Encode(Dataset):\n",
    "    def __init__(self, words, tags, tags_vocab, tokenizer, max_len, pad_idx):\n",
    "        self.data = words\n",
    "        self.labels = tags\n",
    "        self.tags_vocab = tags_vocab\n",
    "        self.tokenizer = tokenizer\n",
    "        self.len = len(self.data)\n",
    "        self.max_len = max_len\n",
    "        self.pad_idx = pad_idx\n",
    "        \n",
    "    def __getitem__(self, index):\n",
    "        inputs = self.tokenizer.encode_plus(\n",
    "            self.data[index],\n",
    "            None,\n",
    "            add_special_tokens=False,\n",
    "            max_length=self.max_len,\n",
    "            padding = 'max_length',\n",
    "            truncation=True\n",
    "        )\n",
    "        \n",
    "        ids = inputs['input_ids']\n",
    "        \n",
    "        labels = self.labels[index] \n",
    "        labels += [self.pad_idx]*(self.max_len-len(labels))      # pad to the right\n",
    "        \n",
    "        return {\n",
    "            'ids': torch.tensor(ids, dtype=torch.long),\n",
    "            'labels': torch.tensor(self.labels[index], dtype=torch.long)\n",
    "        }\n",
    "    \n",
    "    def __len__(self):\n",
    "        return self.len"
   ]
  },
  {
   "cell_type": "code",
   "execution_count": 11,
   "id": "distributed-allowance",
   "metadata": {},
   "outputs": [],
   "source": [
    "# Defining some key variables that will be used later on in the training\n",
    "MAX_LEN = 128\n",
    "TRAIN_BATCH_SIZE = 32\n",
    "VALID_BATCH_SIZE = 32\n",
    "TEST_BATCH_SIZE = 32"
   ]
  },
  {
   "cell_type": "code",
   "execution_count": 12,
   "id": "running-champion",
   "metadata": {
    "scrolled": true
   },
   "outputs": [
    {
     "name": "stderr",
     "output_type": "stream",
     "text": [
      "Special tokens have been added in the vocabulary, make sure the associated word embeddings are fine-tuned or trained.\n"
     ]
    }
   ],
   "source": [
    "tokenizer = AutoTokenizer.from_pretrained(\"vinai/phobert-base\")\n",
    "training_set = Encode(train_words, enumerated_train_tags, tags_vocab, tokenizer, MAX_LEN, PAD_IDX)\n",
    "validating_set = Encode(valid_words, enumerated_valid_tags, tags_vocab, tokenizer, MAX_LEN, PAD_IDX)\n",
    "testing_set = Encode(test_words, enumerated_test_tags, tags_vocab, tokenizer, MAX_LEN, PAD_IDX)"
   ]
  },
  {
   "cell_type": "code",
   "execution_count": 13,
   "id": "addressed-applicant",
   "metadata": {},
   "outputs": [],
   "source": [
    "train_params = {'batch_size': TRAIN_BATCH_SIZE,\n",
    "                'shuffle': True,\n",
    "                'num_workers': 0\n",
    "                }\n",
    "\n",
    "valid_params = {'batch_size': VALID_BATCH_SIZE,\n",
    "                'shuffle': True,\n",
    "                'num_workers': 0\n",
    "                }\n",
    "\n",
    "test_params = {'batch_size': TEST_BATCH_SIZE,\n",
    "                'shuffle': True,\n",
    "                'num_workers': 0\n",
    "                }\n",
    "\n",
    "training_loader = DataLoader(training_set, **train_params)\n",
    "validating_loader = DataLoader(validating_set, **valid_params)\n",
    "testing_loader = DataLoader(testing_set, **test_params)"
   ]
  },
  {
   "cell_type": "markdown",
   "id": "instructional-mayor",
   "metadata": {},
   "source": [
    "# 4. Building the model"
   ]
  },
  {
   "cell_type": "code",
   "execution_count": 14,
   "id": "amino-values",
   "metadata": {
    "scrolled": false
   },
   "outputs": [
    {
     "name": "stderr",
     "output_type": "stream",
     "text": [
      "Some weights of the model checkpoint at vinai/phobert-base were not used when initializing RobertaModel: ['lm_head.dense.weight', 'lm_head.decoder.bias', 'lm_head.decoder.weight', 'lm_head.dense.bias', 'lm_head.bias', 'lm_head.layer_norm.bias', 'lm_head.layer_norm.weight']\n",
      "- This IS expected if you are initializing RobertaModel from the checkpoint of a model trained on another task or with another architecture (e.g. initializing a BertForSequenceClassification model from a BertForPreTraining model).\n",
      "- This IS NOT expected if you are initializing RobertaModel from the checkpoint of a model that you expect to be exactly identical (initializing a BertForSequenceClassification model from a BertForSequenceClassification model).\n"
     ]
    }
   ],
   "source": [
    "#https://github.com/VinAIResearch/PhoBERT\n",
    "phobert = AutoModel.from_pretrained(\"vinai/phobert-base\")"
   ]
  },
  {
   "cell_type": "code",
   "execution_count": 15,
   "id": "ordinary-lafayette",
   "metadata": {},
   "outputs": [
    {
     "data": {
      "text/plain": [
       "'cuda'"
      ]
     },
     "execution_count": 15,
     "metadata": {},
     "output_type": "execute_result"
    }
   ],
   "source": [
    "# Setting up the device for GPU usage\n",
    "from torch import cuda\n",
    "device = 'cuda' if cuda.is_available() else 'cpu'\n",
    "device"
   ]
  },
  {
   "cell_type": "code",
   "execution_count": 16,
   "id": "focused-prior",
   "metadata": {},
   "outputs": [],
   "source": [
    "#https://github.com/bentrevett/pytorch-pos-tagging/blob/master/2_transformer.ipynb\n",
    "class PhoBERTPoSTagger(nn.Module):\n",
    "    def __init__(self,\n",
    "                 bert,\n",
    "                 output_dim, \n",
    "                 dropout):\n",
    "        \n",
    "        super(PhoBERTPoSTagger, self).__init__()\n",
    "        self.bert = bert\n",
    "        for params in self.bert.parameters():\n",
    "            params.requires_grad =  True\n",
    "        embedding_dim = bert.config.to_dict()['hidden_size']\n",
    "        \n",
    "        self.fc1 = nn.Linear(embedding_dim, 512)\n",
    "        self.fc2 = nn.Linear(512,256 )\n",
    "        self.fc = nn.Linear(256, output_dim)\n",
    "        \n",
    "        self.dropout1 = nn.Dropout(dropout)\n",
    "        self.dropout2 = nn.Dropout(dropout)\n",
    "        self.dropout = nn.Dropout(dropout)\n",
    "        \n",
    "    def forward(self, ids):\n",
    "  \n",
    "        # ids = (batch_size, max_len)\n",
    "    \n",
    "        outputs = self.bert(\n",
    "            input_ids=ids,\n",
    "        )\n",
    "        \n",
    "        # outputs = BERT return\n",
    "    \n",
    "        outputs = outputs[0]\n",
    "        \n",
    "        # outputs = (batch_size, max_len, hidden_size)\n",
    "        \n",
    "        outputs = F.relu(self.fc1(self.dropout1(outputs)))\n",
    "        outputs =  F.relu(self.fc2(self.dropout2(outputs)))\n",
    "        outputs =  self.fc(self.dropout(outputs))\n",
    "        \n",
    "        # outputs = (batch_size, max_len, output_dim)\n",
    "        \n",
    "        outputs = outputs.permute(1,0,2)\n",
    "        \n",
    "        # outputs = (max_len, batch_size, output_dim)\n",
    "        \n",
    "        return outputs"
   ]
  },
  {
   "cell_type": "code",
   "execution_count": 17,
   "id": "unexpected-waters",
   "metadata": {
    "scrolled": true
   },
   "outputs": [],
   "source": [
    "output_dim = len(tags_vocab)+1\n",
    "dropout = 0.25\n",
    "\n",
    "model = PhoBERTPoSTagger(phobert,\n",
    "                      output_dim, \n",
    "                      dropout)"
   ]
  },
  {
   "cell_type": "markdown",
   "id": "awful-processing",
   "metadata": {},
   "source": [
    "# 5. Train the model"
   ]
  },
  {
   "cell_type": "code",
   "execution_count": 18,
   "id": "composite-indian",
   "metadata": {},
   "outputs": [],
   "source": [
    "from torch.nn import CrossEntropyLoss"
   ]
  },
  {
   "cell_type": "code",
   "execution_count": 19,
   "id": "driven-tribe",
   "metadata": {},
   "outputs": [],
   "source": [
    "def epoch_time(start_time, end_time):\n",
    "    elapsed_time = end_time - start_time\n",
    "    elapsed_mins = int(elapsed_time / 60)\n",
    "    elapsed_secs = int(elapsed_time - (elapsed_mins * 60))\n",
    "    return elapsed_mins, elapsed_secs"
   ]
  },
  {
   "cell_type": "code",
   "execution_count": 20,
   "id": "second-captain",
   "metadata": {},
   "outputs": [],
   "source": [
    "def compute_accuracy(preds, labels, pad_idx):\n",
    "    max_pred_idx = preds.argmax(dim=1, keepdim = True)\n",
    "    tags_idx = (labels != pad_idx).nonzero()\n",
    "    correct = max_pred_idx[tags_idx].squeeze(1).eq(labels[tags_idx])\n",
    "    return correct.sum() / torch.FloatTensor([labels[tags_idx].shape[0]]).to(device)"
   ]
  },
  {
   "cell_type": "code",
   "execution_count": 21,
   "id": "attractive-scoop",
   "metadata": {},
   "outputs": [],
   "source": [
    "def train(model, training_loader, optimizer, criterion, tag_pad_idx):\n",
    "    \n",
    "    epoch_loss = 0\n",
    "    epoch_acc = 0\n",
    "        \n",
    "    model.train()\n",
    "    \n",
    "    for _,batch in enumerate(training_loader):\n",
    "        optimizer.zero_grad()\n",
    "        #model.zero_grad()\n",
    "                \n",
    "        input_ids = batch['ids'].to(device)\n",
    "        labels = batch['labels'].to(device)\n",
    "                \n",
    "        outputs = model(input_ids)\n",
    "                \n",
    "        # outputs = (max_len, batch_size, output_dim)\n",
    "        # labels = (batch_size, max_len)\n",
    "                \n",
    "        labels = labels.permute(1,0)\n",
    "        # labels = (max_len, batch_size)\n",
    "                \n",
    "        outputs = outputs.contiguous().view(-1, outputs.shape[-1])\n",
    "                \n",
    "        labels = labels.contiguous().view(-1)\n",
    "                \n",
    "        # outputs = (max_len*batch_size, output_dim)\n",
    "        # labels = (max_len*batch_size)\n",
    "                \n",
    "        # Note: Seperating words into sentences is not necessary anymore, \n",
    "        #       we only care if an output word matches its label\n",
    "                                \n",
    "        loss = criterion(outputs, labels)\n",
    "        acc = compute_accuracy(outputs, labels, tag_pad_idx)\n",
    "                \n",
    "        loss.backward()\n",
    "        optimizer.step()\n",
    "                \n",
    "        epoch_loss += loss.item()\n",
    "        epoch_acc += acc.item()\n",
    "        \n",
    "    return epoch_loss / len(training_loader), epoch_acc / len(training_loader)\n"
   ]
  },
  {
   "cell_type": "code",
   "execution_count": 22,
   "id": "9860fc7e",
   "metadata": {},
   "outputs": [],
   "source": [
    "def evaluate(model, validating_loader, criterion, tag_pad_idx):\n",
    "    \n",
    "    epoch_loss = 0\n",
    "    epoch_acc = 0\n",
    "        \n",
    "    model.eval()\n",
    "    \n",
    "    with torch.no_grad():\n",
    "        for _,batch in enumerate(validating_loader):\n",
    "            input_ids = batch['ids'].to(device)\n",
    "            labels = batch['labels'].to(device)\n",
    "            \n",
    "            outputs = model(input_ids)\n",
    "\n",
    "            # outputs = (max_len, batch_size, output_dim)\n",
    "            # labels = (batch_size, max_len)\n",
    "\n",
    "            labels = labels.permute(1,0)\n",
    "            # labels = (max_len, batch_size)\n",
    "\n",
    "            outputs = outputs.contiguous().view(-1, outputs.shape[-1])\n",
    "\n",
    "            labels = labels.contiguous().view(-1)\n",
    "\n",
    "            # outputs = (max_len*batch_size, output_dim)\n",
    "            # labels = (max_len*batch_size)\n",
    "\n",
    "            # Note: Seperating words into sentences is not necessary anymore, \n",
    "            #       we only care if an output word matches its label\n",
    "\n",
    "            loss = criterion(outputs, labels)\n",
    "            acc = compute_accuracy(outputs, labels, 0)\n",
    "\n",
    "            epoch_loss += loss.item()\n",
    "            epoch_acc += acc.item()\n",
    "        \n",
    "    return epoch_loss / len(validating_loader), epoch_acc / len(validating_loader)\n"
   ]
  },
  {
   "cell_type": "code",
   "execution_count": 23,
   "id": "written-hawaiian",
   "metadata": {
    "scrolled": true
   },
   "outputs": [],
   "source": [
    "criterion = CrossEntropyLoss(ignore_index = PAD_IDX)\n",
    "N_EPOCHS = 40\n",
    "LEARNING_RATE = 1e-05\n",
    "optimizer = optim.AdamW(model.parameters(), lr = LEARNING_RATE)\n",
    "\n",
    "model = model.to(device)\n",
    "criterion = criterion.to(device)"
   ]
  },
  {
   "cell_type": "code",
   "execution_count": 24,
   "id": "f6695201",
   "metadata": {
    "scrolled": true
   },
   "outputs": [
    {
     "name": "stdout",
     "output_type": "stream",
     "text": [
      "\n",
      "======== Epoch 1 / 40 ========\n",
      "Epoch: 01 | Epoch Time: 2m 20s\n",
      "\tTrain Loss: 2.381 | Train Acc: 37.86%\n",
      "\t Val. Loss: 1.450 |  Val. Acc: 67.26%\n",
      "\n",
      "======== Epoch 2 / 40 ========\n",
      "Epoch: 02 | Epoch Time: 2m 22s\n",
      "\tTrain Loss: 1.048 | Train Acc: 75.76%\n",
      "\t Val. Loss: 0.625 |  Val. Acc: 85.42%\n",
      "\n",
      "======== Epoch 3 / 40 ========\n",
      "Epoch: 03 | Epoch Time: 2m 22s\n",
      "\tTrain Loss: 0.553 | Train Acc: 87.25%\n",
      "\t Val. Loss: 0.395 |  Val. Acc: 90.71%\n",
      "\n",
      "======== Epoch 4 / 40 ========\n",
      "Epoch: 04 | Epoch Time: 2m 22s\n",
      "\tTrain Loss: 0.400 | Train Acc: 90.18%\n",
      "\t Val. Loss: 0.325 |  Val. Acc: 91.34%\n",
      "\n",
      "======== Epoch 5 / 40 ========\n",
      "Epoch: 05 | Epoch Time: 2m 22s\n",
      "\tTrain Loss: 0.331 | Train Acc: 91.44%\n",
      "\t Val. Loss: 0.278 |  Val. Acc: 92.55%\n",
      "\n",
      "======== Epoch 6 / 40 ========\n",
      "Epoch: 06 | Epoch Time: 2m 22s\n",
      "\tTrain Loss: 0.284 | Train Acc: 92.42%\n",
      "\t Val. Loss: 0.274 |  Val. Acc: 92.15%\n",
      "\n",
      "======== Epoch 7 / 40 ========\n",
      "Epoch: 07 | Epoch Time: 2m 22s\n",
      "\tTrain Loss: 0.251 | Train Acc: 93.03%\n",
      "\t Val. Loss: 0.244 |  Val. Acc: 92.84%\n",
      "\n",
      "======== Epoch 8 / 40 ========\n",
      "Epoch: 08 | Epoch Time: 2m 22s\n",
      "\tTrain Loss: 0.220 | Train Acc: 93.65%\n",
      "\t Val. Loss: 0.273 |  Val. Acc: 92.39%\n",
      "\n",
      "======== Epoch 9 / 40 ========\n",
      "Epoch: 09 | Epoch Time: 2m 22s\n",
      "\tTrain Loss: 0.194 | Train Acc: 94.19%\n",
      "\t Val. Loss: 0.240 |  Val. Acc: 92.81%\n",
      "\n",
      "======== Epoch 10 / 40 ========\n",
      "Epoch: 10 | Epoch Time: 2m 22s\n",
      "\tTrain Loss: 0.174 | Train Acc: 94.77%\n",
      "\t Val. Loss: 0.209 |  Val. Acc: 93.66%\n",
      "\n",
      "======== Epoch 11 / 40 ========\n",
      "Epoch: 11 | Epoch Time: 2m 22s\n",
      "\tTrain Loss: 0.152 | Train Acc: 95.45%\n",
      "\t Val. Loss: 0.198 |  Val. Acc: 94.38%\n",
      "\n",
      "======== Epoch 12 / 40 ========\n",
      "Epoch: 12 | Epoch Time: 2m 22s\n",
      "\tTrain Loss: 0.133 | Train Acc: 96.07%\n",
      "\t Val. Loss: 0.230 |  Val. Acc: 93.38%\n",
      "\n",
      "======== Epoch 13 / 40 ========\n",
      "Epoch: 13 | Epoch Time: 2m 22s\n",
      "\tTrain Loss: 0.116 | Train Acc: 96.60%\n",
      "\t Val. Loss: 0.214 |  Val. Acc: 94.06%\n",
      "\n",
      "======== Epoch 14 / 40 ========\n",
      "Epoch: 14 | Epoch Time: 2m 22s\n",
      "\tTrain Loss: 0.105 | Train Acc: 96.84%\n",
      "\t Val. Loss: 0.194 |  Val. Acc: 94.26%\n",
      "\n",
      "======== Epoch 15 / 40 ========\n",
      "Epoch: 15 | Epoch Time: 2m 22s\n",
      "\tTrain Loss: 0.095 | Train Acc: 97.10%\n",
      "\t Val. Loss: 0.187 |  Val. Acc: 94.69%\n",
      "\n",
      "======== Epoch 16 / 40 ========\n",
      "Epoch: 16 | Epoch Time: 2m 22s\n",
      "\tTrain Loss: 0.086 | Train Acc: 97.40%\n",
      "\t Val. Loss: 0.185 |  Val. Acc: 94.87%\n",
      "\n",
      "======== Epoch 17 / 40 ========\n",
      "Epoch: 17 | Epoch Time: 2m 22s\n",
      "\tTrain Loss: 0.079 | Train Acc: 97.64%\n",
      "\t Val. Loss: 0.211 |  Val. Acc: 94.05%\n",
      "\n",
      "======== Epoch 18 / 40 ========\n",
      "Epoch: 18 | Epoch Time: 2m 22s\n",
      "\tTrain Loss: 0.073 | Train Acc: 97.78%\n",
      "\t Val. Loss: 0.214 |  Val. Acc: 93.75%\n",
      "\n",
      "======== Epoch 19 / 40 ========\n",
      "Epoch: 19 | Epoch Time: 2m 22s\n",
      "\tTrain Loss: 0.067 | Train Acc: 97.97%\n",
      "\t Val. Loss: 0.199 |  Val. Acc: 94.38%\n",
      "\n",
      "======== Epoch 20 / 40 ========\n",
      "Epoch: 20 | Epoch Time: 2m 22s\n",
      "\tTrain Loss: 0.062 | Train Acc: 98.12%\n",
      "\t Val. Loss: 0.189 |  Val. Acc: 95.14%\n",
      "\n",
      "======== Epoch 21 / 40 ========\n",
      "Epoch: 21 | Epoch Time: 2m 22s\n",
      "\tTrain Loss: 0.058 | Train Acc: 98.24%\n",
      "\t Val. Loss: 0.196 |  Val. Acc: 95.18%\n",
      "\n",
      "======== Epoch 22 / 40 ========\n",
      "Epoch: 22 | Epoch Time: 2m 22s\n",
      "\tTrain Loss: 0.055 | Train Acc: 98.34%\n",
      "\t Val. Loss: 0.218 |  Val. Acc: 94.27%\n",
      "\n",
      "======== Epoch 23 / 40 ========\n",
      "Epoch: 23 | Epoch Time: 2m 22s\n",
      "\tTrain Loss: 0.050 | Train Acc: 98.53%\n",
      "\t Val. Loss: 0.174 |  Val. Acc: 95.49%\n",
      "\n",
      "======== Epoch 24 / 40 ========\n",
      "Epoch: 24 | Epoch Time: 2m 22s\n",
      "\tTrain Loss: 0.047 | Train Acc: 98.61%\n",
      "\t Val. Loss: 0.200 |  Val. Acc: 95.58%\n",
      "\n",
      "======== Epoch 25 / 40 ========\n",
      "Epoch: 25 | Epoch Time: 2m 22s\n",
      "\tTrain Loss: 0.045 | Train Acc: 98.68%\n",
      "\t Val. Loss: 0.203 |  Val. Acc: 94.91%\n",
      "\n",
      "======== Epoch 26 / 40 ========\n",
      "Epoch: 26 | Epoch Time: 2m 22s\n",
      "\tTrain Loss: 0.041 | Train Acc: 98.78%\n",
      "\t Val. Loss: 0.214 |  Val. Acc: 94.72%\n",
      "\n",
      "======== Epoch 27 / 40 ========\n",
      "Epoch: 27 | Epoch Time: 2m 22s\n",
      "\tTrain Loss: 0.039 | Train Acc: 98.84%\n",
      "\t Val. Loss: 0.230 |  Val. Acc: 94.92%\n",
      "\n",
      "======== Epoch 28 / 40 ========\n",
      "Epoch: 28 | Epoch Time: 2m 22s\n",
      "\tTrain Loss: 0.037 | Train Acc: 98.89%\n",
      "\t Val. Loss: 0.233 |  Val. Acc: 95.06%\n",
      "\n",
      "======== Epoch 29 / 40 ========\n",
      "Epoch: 29 | Epoch Time: 2m 22s\n",
      "\tTrain Loss: 0.036 | Train Acc: 98.96%\n",
      "\t Val. Loss: 0.199 |  Val. Acc: 95.62%\n",
      "\n",
      "======== Epoch 30 / 40 ========\n",
      "Epoch: 30 | Epoch Time: 2m 22s\n",
      "\tTrain Loss: 0.033 | Train Acc: 99.01%\n",
      "\t Val. Loss: 0.245 |  Val. Acc: 94.77%\n",
      "\n",
      "======== Epoch 31 / 40 ========\n",
      "Epoch: 31 | Epoch Time: 2m 22s\n",
      "\tTrain Loss: 0.031 | Train Acc: 99.08%\n",
      "\t Val. Loss: 0.232 |  Val. Acc: 95.26%\n",
      "\n",
      "======== Epoch 32 / 40 ========\n",
      "Epoch: 32 | Epoch Time: 2m 22s\n",
      "\tTrain Loss: 0.031 | Train Acc: 99.09%\n",
      "\t Val. Loss: 0.240 |  Val. Acc: 95.13%\n",
      "\n",
      "======== Epoch 33 / 40 ========\n",
      "Epoch: 33 | Epoch Time: 2m 22s\n",
      "\tTrain Loss: 0.029 | Train Acc: 99.15%\n",
      "\t Val. Loss: 0.219 |  Val. Acc: 95.36%\n",
      "\n",
      "======== Epoch 34 / 40 ========\n",
      "Epoch: 34 | Epoch Time: 2m 22s\n",
      "\tTrain Loss: 0.028 | Train Acc: 99.19%\n",
      "\t Val. Loss: 0.226 |  Val. Acc: 95.60%\n",
      "\n",
      "======== Epoch 35 / 40 ========\n",
      "Epoch: 35 | Epoch Time: 2m 22s\n",
      "\tTrain Loss: 0.027 | Train Acc: 99.20%\n",
      "\t Val. Loss: 0.203 |  Val. Acc: 95.94%\n",
      "\n",
      "======== Epoch 36 / 40 ========\n",
      "Epoch: 36 | Epoch Time: 2m 22s\n",
      "\tTrain Loss: 0.024 | Train Acc: 99.31%\n",
      "\t Val. Loss: 0.244 |  Val. Acc: 95.62%\n",
      "\n",
      "======== Epoch 37 / 40 ========\n",
      "Epoch: 37 | Epoch Time: 2m 22s\n",
      "\tTrain Loss: 0.024 | Train Acc: 99.29%\n",
      "\t Val. Loss: 0.244 |  Val. Acc: 95.71%\n",
      "\n",
      "======== Epoch 38 / 40 ========\n",
      "Epoch: 38 | Epoch Time: 2m 22s\n",
      "\tTrain Loss: 0.022 | Train Acc: 99.34%\n",
      "\t Val. Loss: 0.233 |  Val. Acc: 95.79%\n",
      "\n",
      "======== Epoch 39 / 40 ========\n",
      "Epoch: 39 | Epoch Time: 2m 22s\n",
      "\tTrain Loss: 0.022 | Train Acc: 99.37%\n",
      "\t Val. Loss: 0.254 |  Val. Acc: 95.34%\n",
      "\n",
      "======== Epoch 40 / 40 ========\n",
      "Epoch: 40 | Epoch Time: 2m 22s\n",
      "\tTrain Loss: 0.021 | Train Acc: 99.39%\n",
      "\t Val. Loss: 0.226 |  Val. Acc: 95.57%\n"
     ]
    }
   ],
   "source": [
    "best_valid_loss = float('inf')\n",
    "for epoch in range(N_EPOCHS):\n",
    "    print(\"\")\n",
    "    print('======== Epoch {:} / {:} ========'.format(epoch+1, N_EPOCHS))\n",
    "    \n",
    "    start_time = time.time()\n",
    "    \n",
    "    train_loss, train_acc = train(model, training_loader, optimizer, criterion, PAD_IDX)\n",
    "    valid_loss, valid_acc = evaluate(model, validating_loader, criterion, PAD_IDX)\n",
    "    \n",
    "    end_time = time.time()\n",
    "    \n",
    "    epoch_mins, epoch_secs = epoch_time(start_time, end_time)\n",
    "    \n",
    "    if valid_loss < best_valid_loss:\n",
    "        best_valid_loss = valid_loss\n",
    "        torch.save(model.state_dict(), 'postag-model.pt')\n",
    "        \n",
    "    print(f'Epoch: {epoch+1:02} | Epoch Time: {epoch_mins}m {epoch_secs}s')\n",
    "    print(f'\\tTrain Loss: {train_loss:.3f} | Train Acc: {train_acc*100:.2f}%')\n",
    "    print(f'\\t Val. Loss: {valid_loss:.3f} |  Val. Acc: {valid_acc*100:.2f}%')"
   ]
  },
  {
   "cell_type": "code",
   "execution_count": 25,
   "id": "c6960bec",
   "metadata": {},
   "outputs": [
    {
     "name": "stdout",
     "output_type": "stream",
     "text": [
      "Test Loss: 0.206 | Test Acc: 94.89%\n"
     ]
    }
   ],
   "source": [
    "model.load_state_dict(torch.load('postag-model.pt'))\n",
    "\n",
    "test_loss, test_acc = evaluate(model, testing_loader, criterion, PAD_IDX)\n",
    "\n",
    "print(f'Test Loss: {test_loss:.3f} | Test Acc: {test_acc*100:.2f}%')"
   ]
  }
 ],
 "metadata": {
  "kernelspec": {
   "display_name": "Python 3 (ipykernel)",
   "language": "python",
   "name": "python3"
  },
  "language_info": {
   "codemirror_mode": {
    "name": "ipython",
    "version": 3
   },
   "file_extension": ".py",
   "mimetype": "text/x-python",
   "name": "python",
   "nbconvert_exporter": "python",
   "pygments_lexer": "ipython3",
   "version": "3.8.12"
  }
 },
 "nbformat": 4,
 "nbformat_minor": 5
}

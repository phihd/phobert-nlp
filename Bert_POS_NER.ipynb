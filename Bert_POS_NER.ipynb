{
 "cells": [
  {
   "cell_type": "code",
   "execution_count": 1,
   "id": "introductory-boating",
   "metadata": {},
   "outputs": [],
   "source": [
    "skip_training = False  # Set this flag to True to skip training the model"
   ]
  },
  {
   "cell_type": "code",
   "execution_count": 2,
   "id": "black-legislature",
   "metadata": {},
   "outputs": [],
   "source": [
    "import torch\n",
    "import torch.nn as nn\n",
    "import torch.nn.functional as F\n",
    "import torch.optim as optim\n",
    "\n",
    "from transformers import BertTokenizer, BertModel, AutoModel, AutoTokenizer\n",
    "from torch.utils.data import Dataset, DataLoader\n",
    "\n",
    "import pandas as pd\n",
    "\n",
    "import numpy as np\n",
    "\n",
    "import time\n",
    "import random\n",
    "import functools\n",
    "import os"
   ]
  },
  {
   "cell_type": "markdown",
   "id": "e3d06f24",
   "metadata": {},
   "source": [
    "Material:  \n",
    "https://www.vinai.io/phobert-the-first-public-large-scale-language-models-for-vietnamese"
   ]
  },
  {
   "cell_type": "markdown",
   "id": "popular-wrist",
   "metadata": {},
   "source": [
    "# 1. Read the data"
   ]
  },
  {
   "cell_type": "markdown",
   "id": "satellite-commission",
   "metadata": {},
   "source": [
    "https://github.com/datquocnguyen/VnDT#data-split"
   ]
  },
  {
   "cell_type": "markdown",
   "id": "sticky-berry",
   "metadata": {},
   "source": [
    "https://github.com/datquocnguyen/VnDT/blob/master/VnDT-paper-CameraReadyVersion.pdf"
   ]
  },
  {
   "cell_type": "markdown",
   "id": "corrected-manner",
   "metadata": {},
   "source": [
    "## 1.1 Read the tags"
   ]
  },
  {
   "cell_type": "code",
   "execution_count": 3,
   "id": "temporal-career",
   "metadata": {},
   "outputs": [],
   "source": [
    "import re\n",
    "def read_1(file_name):\n",
    "    with open(file_name, encoding='utf8') as f:\n",
    "        # line = ['Np Proper noun','Nc Classifier noun',...]\n",
    "        lines = re.split('\\n',f.read())\n",
    "    \n",
    "    tags = []\n",
    "    tag_dict = {}\n",
    "    for line in lines:\n",
    "        tmp = line.split(' ',1)\n",
    "        tags.append(tmp[0])\n",
    "        tag_dict[tmp[0]] = tmp[1]\n",
    "        \n",
    "    return tags, tag_dict"
   ]
  },
  {
   "cell_type": "markdown",
   "id": "reverse-sugar",
   "metadata": {},
   "source": [
    "## 1.2 Read train - dev - test corpuses"
   ]
  },
  {
   "cell_type": "code",
   "execution_count": 4,
   "id": "violent-proxy",
   "metadata": {},
   "outputs": [],
   "source": [
    "import re\n",
    "def read_2(file_name):\n",
    "    \"\"\"\n",
    "    Parameters\n",
    "    ----------\n",
    "    file_name - string\n",
    "        a path to a file with an annotated corpus\n",
    "    \n",
    "    Returns \n",
    "    -------\n",
    "    words - a list of lists of words\n",
    "    tags - a list of lists of tags\n",
    "        For example, the first sentence in a file is word1-tag1, word2-tag2 \n",
    "        and the next sentence is word3_/_tag3. Then you should get:\n",
    "        words = [['word1','word2'],['word3']]\n",
    "        tags = [['tag1','tag2'],['tag3']]\n",
    "    \"\"\"\n",
    "    \n",
    "    df = pd.read_csv(file_name, sep='\\t|\\n', names = ['idx','word','c3','c4','tag','c6','c7','c8','c9','c10'])\n",
    "    \n",
    "    words = []\n",
    "    tags = []\n",
    "    sentence_words = []\n",
    "    sentence_tags = []\n",
    "    prev_idx = 0\n",
    "    for _,row in df.iterrows():\n",
    "        if row['idx'] != prev_idx+1:\n",
    "            words.append(sentence_words)\n",
    "            tags.append(sentence_tags)\n",
    "            sentence_words = []\n",
    "            sentence_tags = []\n",
    "            \n",
    "        sentence_words.append(row['word'])\n",
    "        sentence_tags.append(row['tag'])\n",
    "        prev_idx = row['idx']\n",
    "            \n",
    "    return words, tags"
   ]
  },
  {
   "cell_type": "markdown",
   "id": "obvious-haiti",
   "metadata": {},
   "source": [
    "## 1.3 Load the data"
   ]
  },
  {
   "cell_type": "code",
   "execution_count": 5,
   "id": "07fa0f27",
   "metadata": {},
   "outputs": [
    {
     "data": {
      "text/plain": [
       "'/m/home/home1/12/dangp1/unix/POS_NER'"
      ]
     },
     "execution_count": 5,
     "metadata": {},
     "output_type": "execute_result"
    }
   ],
   "source": [
    "cwd = os.getcwd()\n",
    "cwd"
   ]
  },
  {
   "cell_type": "code",
   "execution_count": 6,
   "id": "streaming-credits",
   "metadata": {
    "scrolled": true
   },
   "outputs": [
    {
     "name": "stderr",
     "output_type": "stream",
     "text": [
      "/u/12/dangp1/unix/.conda/envs/concac/lib/python3.8/site-packages/pandas/util/_decorators.py:311: ParserWarning: Falling back to the 'python' engine because the 'c' engine does not support regex separators (separators > 1 char and different from '\\s+' are interpreted as regex); you can avoid this warning by specifying engine='python'.\n",
      "  return func(*args, **kwargs)\n"
     ]
    },
    {
     "name": "stdout",
     "output_type": "stream",
     "text": [
      "8976\n",
      "199\n",
      "1019\n"
     ]
    }
   ],
   "source": [
    "tags_vocab_path = cwd+'/data/tags_vocab.txt'\n",
    "train_path = cwd+'/data/train.txt'\n",
    "valid_path = cwd+'/data/dev.txt'\n",
    "test_path = cwd+'/data/test.txt'\n",
    "\n",
    "tags_vocab, tags_vocab_dict = read_1(tags_vocab_path)\n",
    "train_words, train_tags = read_2(train_path)\n",
    "valid_words, valid_tags = read_2(valid_path)\n",
    "test_words, test_tags = read_2(test_path)\n",
    "\n",
    "print(len(train_words))\n",
    "print(len(valid_words))\n",
    "print(len(test_words))"
   ]
  },
  {
   "cell_type": "markdown",
   "id": "naval-recycling",
   "metadata": {},
   "source": [
    "## 1.4 Enumerate labels"
   ]
  },
  {
   "cell_type": "code",
   "execution_count": 7,
   "id": "municipal-jaguar",
   "metadata": {
    "scrolled": true
   },
   "outputs": [],
   "source": [
    "def tag2num(tags_vocab):\n",
    "    return dict(zip( tags_vocab, range(1, len(tags_vocab)+1) ))\n",
    "\n",
    "tag2num = tag2num(tags_vocab)"
   ]
  },
  {
   "cell_type": "code",
   "execution_count": 8,
   "id": "median-visitor",
   "metadata": {},
   "outputs": [],
   "source": [
    "def Enumerate_tags(sentence_tags, tag2num):\n",
    "    converted_tags = [ list(map(lambda x: tag2num[x], sentence_tag)) for sentence_tag in sentence_tags ]\n",
    "    return converted_tags\n",
    "\n",
    "enumerated_train_tags = Enumerate_tags(train_tags, tag2num)\n",
    "enumerated_valid_tags = Enumerate_tags(valid_tags, tag2num)\n",
    "enumerated_test_tags = Enumerate_tags(test_tags, tag2num)"
   ]
  },
  {
   "cell_type": "code",
   "execution_count": 9,
   "id": "african-biodiversity",
   "metadata": {},
   "outputs": [],
   "source": [
    "PAD_IDX = 0"
   ]
  },
  {
   "cell_type": "markdown",
   "id": "contemporary-capacity",
   "metadata": {},
   "source": [
    "# 2. Study the data"
   ]
  },
  {
   "cell_type": "markdown",
   "id": "adequate-recruitment",
   "metadata": {},
   "source": [
    "# 3. Encode"
   ]
  },
  {
   "cell_type": "code",
   "execution_count": 10,
   "id": "ahead-helicopter",
   "metadata": {},
   "outputs": [],
   "source": [
    "class Encode(Dataset):\n",
    "    def __init__(self, words, tags, tags_vocab, tokenizer, max_len, pad_idx):\n",
    "        self.data = words\n",
    "        self.labels = tags\n",
    "        self.tags_vocab = tags_vocab\n",
    "        self.tokenizer = tokenizer\n",
    "        self.len = len(self.data)\n",
    "        self.max_len = max_len\n",
    "        self.pad_idx = pad_idx\n",
    "        \n",
    "    def __getitem__(self, index):\n",
    "        inputs = self.tokenizer.encode_plus(\n",
    "            self.data[index],\n",
    "            None,\n",
    "            add_special_tokens=False,\n",
    "            max_length=self.max_len,\n",
    "            padding = 'max_length',\n",
    "            truncation=True\n",
    "        )\n",
    "        \n",
    "        ids = inputs['input_ids']\n",
    "        \n",
    "        labels = self.labels[index] \n",
    "        labels += [self.pad_idx]*(self.max_len-len(labels))      # pad to the right\n",
    "        \n",
    "        return {\n",
    "            'ids': torch.tensor(ids, dtype=torch.long),\n",
    "            'labels': torch.tensor(self.labels[index], dtype=torch.long)\n",
    "        }\n",
    "    \n",
    "    def __len__(self):\n",
    "        return self.len"
   ]
  },
  {
   "cell_type": "code",
   "execution_count": 11,
   "id": "distributed-allowance",
   "metadata": {},
   "outputs": [],
   "source": [
    "# Defining some key variables that will be used later on in the training\n",
    "MAX_LEN = 128\n",
    "TRAIN_BATCH_SIZE = 32\n",
    "VALID_BATCH_SIZE = 32\n",
    "TEST_BATCH_SIZE = 32"
   ]
  },
  {
   "cell_type": "code",
   "execution_count": 12,
   "id": "running-champion",
   "metadata": {
    "scrolled": true
   },
   "outputs": [
    {
     "name": "stderr",
     "output_type": "stream",
     "text": [
      "Special tokens have been added in the vocabulary, make sure the associated word embeddings are fine-tuned or trained.\n"
     ]
    }
   ],
   "source": [
    "tokenizer = AutoTokenizer.from_pretrained(\"vinai/phobert-base\")\n",
    "training_set = Encode(train_words, enumerated_train_tags, tags_vocab, tokenizer, MAX_LEN, PAD_IDX)\n",
    "validating_set = Encode(valid_words, enumerated_valid_tags, tags_vocab, tokenizer, MAX_LEN, PAD_IDX)\n",
    "testing_set = Encode(test_words, enumerated_test_tags, tags_vocab, tokenizer, MAX_LEN, PAD_IDX)"
   ]
  },
  {
   "cell_type": "code",
   "execution_count": 13,
   "id": "addressed-applicant",
   "metadata": {},
   "outputs": [],
   "source": [
    "train_params = {'batch_size': TRAIN_BATCH_SIZE,\n",
    "                'shuffle': True,\n",
    "                'num_workers': 0\n",
    "                }\n",
    "\n",
    "valid_params = {'batch_size': VALID_BATCH_SIZE,\n",
    "                'shuffle': True,\n",
    "                'num_workers': 0\n",
    "                }\n",
    "\n",
    "test_params = {'batch_size': TEST_BATCH_SIZE,\n",
    "                'shuffle': True,\n",
    "                'num_workers': 0\n",
    "                }\n",
    "\n",
    "training_loader = DataLoader(training_set, **train_params)\n",
    "validating_loader = DataLoader(validating_set, **valid_params)\n",
    "testing_loader = DataLoader(testing_set, **test_params)"
   ]
  },
  {
   "cell_type": "markdown",
   "id": "instructional-mayor",
   "metadata": {},
   "source": [
    "# 4. Building the model"
   ]
  },
  {
   "cell_type": "code",
   "execution_count": 14,
   "id": "amino-values",
   "metadata": {
    "scrolled": false
   },
   "outputs": [
    {
     "name": "stderr",
     "output_type": "stream",
     "text": [
      "Some weights of the model checkpoint at vinai/phobert-base were not used when initializing RobertaModel: ['lm_head.layer_norm.weight', 'lm_head.decoder.weight', 'lm_head.bias', 'lm_head.layer_norm.bias', 'lm_head.dense.weight', 'lm_head.dense.bias', 'lm_head.decoder.bias']\n",
      "- This IS expected if you are initializing RobertaModel from the checkpoint of a model trained on another task or with another architecture (e.g. initializing a BertForSequenceClassification model from a BertForPreTraining model).\n",
      "- This IS NOT expected if you are initializing RobertaModel from the checkpoint of a model that you expect to be exactly identical (initializing a BertForSequenceClassification model from a BertForSequenceClassification model).\n"
     ]
    }
   ],
   "source": [
    "#https://github.com/VinAIResearch/PhoBERT\n",
    "phobert = AutoModel.from_pretrained(\"vinai/phobert-base\")"
   ]
  },
  {
   "cell_type": "code",
   "execution_count": 15,
   "id": "ordinary-lafayette",
   "metadata": {},
   "outputs": [
    {
     "data": {
      "text/plain": [
       "'cuda'"
      ]
     },
     "execution_count": 15,
     "metadata": {},
     "output_type": "execute_result"
    }
   ],
   "source": [
    "# Setting up the device for GPU usage\n",
    "from torch import cuda\n",
    "device = 'cuda' if cuda.is_available() else 'cpu'\n",
    "device"
   ]
  },
  {
   "cell_type": "code",
   "execution_count": 16,
   "id": "focused-prior",
   "metadata": {},
   "outputs": [],
   "source": [
    "#https://github.com/bentrevett/pytorch-pos-tagging/blob/master/2_transformer.ipynb\n",
    "class PhoBERTPoSTagger(nn.Module):\n",
    "    def __init__(self,\n",
    "                 bert,\n",
    "                 output_dim, \n",
    "                 dropout):\n",
    "        \n",
    "        super(PhoBERTPoSTagger, self).__init__()\n",
    "        self.bert = bert\n",
    "        for params in self.bert.parameters():\n",
    "            params.requires_grad =  False\n",
    "        embedding_dim = bert.config.to_dict()['hidden_size']\n",
    "        \n",
    "        self.fc1 = nn.Linear(embedding_dim, 256)\n",
    "        self.fc2 = nn.Linear(256, 1024 )\n",
    "        self.fc = nn.Linear(1024, output_dim)\n",
    "        \n",
    "        self.dropout1 = nn.Dropout(dropout)\n",
    "        self.dropout2 = nn.Dropout(dropout)\n",
    "        self.dropout = nn.Dropout(dropout)\n",
    "        \n",
    "    def forward(self, ids):\n",
    "  \n",
    "        # ids = (batch_size, max_len)\n",
    "    \n",
    "        outputs = self.bert(\n",
    "            input_ids=ids,\n",
    "        )\n",
    "        \n",
    "        # outputs = BERT return\n",
    "    \n",
    "        outputs = outputs[0]\n",
    "        \n",
    "        # outputs = (batch_size, max_len, hidden_size)\n",
    "        \n",
    "        outputs = self.fc1(self.dropout1(outputs))\n",
    "        outputs = self.fc2(self.dropout2(outputs))\n",
    "        outputs = self.fc(self.dropout(outputs))\n",
    "        \n",
    "        # outputs = (batch_size, max_len, output_dim)\n",
    "        \n",
    "        outputs = outputs.permute(1,0,2)\n",
    "        \n",
    "        # outputs = (max_len, batch_size, output_dim)\n",
    "        \n",
    "        return outputs"
   ]
  },
  {
   "cell_type": "code",
   "execution_count": 17,
   "id": "unexpected-waters",
   "metadata": {
    "scrolled": true
   },
   "outputs": [],
   "source": [
    "output_dim = len(tags_vocab)+1\n",
    "dropout = 0.25\n",
    "\n",
    "model = PhoBERTPoSTagger(phobert,\n",
    "                      output_dim, \n",
    "                      dropout)"
   ]
  },
  {
   "cell_type": "markdown",
   "id": "awful-processing",
   "metadata": {},
   "source": [
    "# 5. Train the model"
   ]
  },
  {
   "cell_type": "code",
   "execution_count": 18,
   "id": "composite-indian",
   "metadata": {},
   "outputs": [],
   "source": [
    "from torch.nn import CrossEntropyLoss"
   ]
  },
  {
   "cell_type": "code",
   "execution_count": 19,
   "id": "driven-tribe",
   "metadata": {},
   "outputs": [],
   "source": [
    "def epoch_time(start_time, end_time):\n",
    "    elapsed_time = end_time - start_time\n",
    "    elapsed_mins = int(elapsed_time / 60)\n",
    "    elapsed_secs = int(elapsed_time - (elapsed_mins * 60))\n",
    "    return elapsed_mins, elapsed_secs"
   ]
  },
  {
   "cell_type": "code",
   "execution_count": 20,
   "id": "second-captain",
   "metadata": {},
   "outputs": [],
   "source": [
    "def compute_accuracy(preds, labels, pad_idx):\n",
    "    max_pred_idx = preds.argmax(dim=1, keepdim = True)\n",
    "    tags_idx = (labels != pad_idx).nonzero()\n",
    "    correct = max_pred_idx[tags_idx].squeeze(1).eq(labels[tags_idx])\n",
    "    return correct.sum() / torch.FloatTensor([labels[tags_idx].shape[0]]).to(device)"
   ]
  },
  {
   "cell_type": "code",
   "execution_count": 21,
   "id": "attractive-scoop",
   "metadata": {},
   "outputs": [],
   "source": [
    "def train(model, training_loader, optimizer, criterion, tag_pad_idx):\n",
    "    \n",
    "    epoch_loss = 0\n",
    "    epoch_acc = 0\n",
    "        \n",
    "    model.train()\n",
    "    \n",
    "    for _,batch in enumerate(training_loader):\n",
    "        optimizer.zero_grad()\n",
    "        #model.zero_grad()\n",
    "                \n",
    "        input_ids = batch['ids'].to(device)\n",
    "        labels = batch['labels'].to(device)\n",
    "                \n",
    "        outputs = model(input_ids)\n",
    "                \n",
    "        # outputs = (max_len, batch_size, output_dim)\n",
    "        # labels = (batch_size, max_len)\n",
    "                \n",
    "        labels = labels.permute(1,0)\n",
    "        # labels = (max_len, batch_size)\n",
    "                \n",
    "        outputs = outputs.contiguous().view(-1, outputs.shape[-1])\n",
    "                \n",
    "        labels = labels.contiguous().view(-1)\n",
    "                \n",
    "        # outputs = (max_len*batch_size, output_dim)\n",
    "        # labels = (max_len*batch_size)\n",
    "                \n",
    "        # Note: Seperating words into sentences is not necessary anymore, \n",
    "        #       we only care if an output word matches its label\n",
    "                                \n",
    "        loss = criterion(outputs, labels)\n",
    "        acc = compute_accuracy(outputs, labels, tag_pad_idx)\n",
    "                \n",
    "        loss.backward()\n",
    "        optimizer.step()\n",
    "                \n",
    "        epoch_loss += loss.item()\n",
    "        epoch_acc += acc.item()\n",
    "        \n",
    "    return epoch_loss / len(training_loader), epoch_acc / len(training_loader)\n"
   ]
  },
  {
   "cell_type": "code",
   "execution_count": 22,
   "id": "9860fc7e",
   "metadata": {},
   "outputs": [],
   "source": [
    "def evaluate(model, validating_loader, criterion, tag_pad_idx):\n",
    "    \n",
    "    epoch_loss = 0\n",
    "    epoch_acc = 0\n",
    "        \n",
    "    model.eval()\n",
    "    \n",
    "    with torch.no_grad():\n",
    "        for _,batch in enumerate(validating_loader):\n",
    "            input_ids = batch['ids'].to(device)\n",
    "            labels = batch['labels'].to(device)\n",
    "            \n",
    "            outputs = model(input_ids)\n",
    "\n",
    "            # outputs = (max_len, batch_size, output_dim)\n",
    "            # labels = (batch_size, max_len)\n",
    "\n",
    "            labels = labels.permute(1,0)\n",
    "            # labels = (max_len, batch_size)\n",
    "\n",
    "            outputs = outputs.contiguous().view(-1, outputs.shape[-1])\n",
    "\n",
    "            labels = labels.contiguous().view(-1)\n",
    "\n",
    "            # outputs = (max_len*batch_size, output_dim)\n",
    "            # labels = (max_len*batch_size)\n",
    "\n",
    "            # Note: Seperating words into sentences is not necessary anymore, \n",
    "            #       we only care if an output word matches its label\n",
    "\n",
    "            loss = criterion(outputs, labels)\n",
    "            acc = compute_accuracy(outputs, labels, 0)\n",
    "\n",
    "            epoch_loss += loss.item()\n",
    "            epoch_acc += acc.item()\n",
    "        \n",
    "    return epoch_loss / len(validating_loader), epoch_acc / len(validating_loader)\n"
   ]
  },
  {
   "cell_type": "code",
   "execution_count": 23,
   "id": "written-hawaiian",
   "metadata": {
    "scrolled": true
   },
   "outputs": [],
   "source": [
    "criterion = CrossEntropyLoss(ignore_index = PAD_IDX)\n",
    "N_EPOCHS = 40\n",
    "LEARNING_RATE = 1e-05\n",
    "optimizer = optim.AdamW(model.parameters(), lr = LEARNING_RATE)\n",
    "\n",
    "model = model.to(device)\n",
    "criterion = criterion.to(device)"
   ]
  },
  {
   "cell_type": "code",
   "execution_count": 24,
   "id": "f6695201",
   "metadata": {
    "scrolled": true
   },
   "outputs": [
    {
     "name": "stdout",
     "output_type": "stream",
     "text": [
      "\n",
      "======== Epoch 1 / 40 ========\n",
      "Epoch: 01 | Epoch Time: 0m 48s\n",
      "\tTrain Loss: 2.564 | Train Acc: 28.21%\n",
      "\t Val. Loss: 2.206 |  Val. Acc: 37.90%\n",
      "\n",
      "======== Epoch 2 / 40 ========\n",
      "Epoch: 02 | Epoch Time: 0m 49s\n",
      "\tTrain Loss: 2.022 | Train Acc: 41.65%\n",
      "\t Val. Loss: 1.903 |  Val. Acc: 48.97%\n",
      "\n",
      "======== Epoch 3 / 40 ========\n",
      "Epoch: 03 | Epoch Time: 0m 49s\n",
      "\tTrain Loss: 1.755 | Train Acc: 49.89%\n",
      "\t Val. Loss: 1.646 |  Val. Acc: 56.08%\n",
      "\n",
      "======== Epoch 4 / 40 ========\n",
      "Epoch: 04 | Epoch Time: 0m 49s\n",
      "\tTrain Loss: 1.517 | Train Acc: 56.07%\n",
      "\t Val. Loss: 1.402 |  Val. Acc: 60.90%\n",
      "\n",
      "======== Epoch 5 / 40 ========\n",
      "Epoch: 05 | Epoch Time: 0m 49s\n",
      "\tTrain Loss: 1.318 | Train Acc: 61.17%\n",
      "\t Val. Loss: 1.202 |  Val. Acc: 66.78%\n",
      "\n",
      "======== Epoch 6 / 40 ========\n",
      "Epoch: 06 | Epoch Time: 0m 50s\n",
      "\tTrain Loss: 1.163 | Train Acc: 66.41%\n",
      "\t Val. Loss: 1.050 |  Val. Acc: 72.51%\n",
      "\n",
      "======== Epoch 7 / 40 ========\n",
      "Epoch: 07 | Epoch Time: 0m 50s\n",
      "\tTrain Loss: 1.046 | Train Acc: 70.29%\n",
      "\t Val. Loss: 0.931 |  Val. Acc: 76.45%\n",
      "\n",
      "======== Epoch 8 / 40 ========\n",
      "Epoch: 08 | Epoch Time: 0m 50s\n",
      "\tTrain Loss: 0.958 | Train Acc: 72.80%\n",
      "\t Val. Loss: 0.839 |  Val. Acc: 78.19%\n",
      "\n",
      "======== Epoch 9 / 40 ========\n",
      "Epoch: 09 | Epoch Time: 0m 50s\n",
      "\tTrain Loss: 0.894 | Train Acc: 74.36%\n",
      "\t Val. Loss: 0.778 |  Val. Acc: 79.33%\n",
      "\n",
      "======== Epoch 10 / 40 ========\n",
      "Epoch: 10 | Epoch Time: 0m 50s\n",
      "\tTrain Loss: 0.850 | Train Acc: 75.43%\n",
      "\t Val. Loss: 0.741 |  Val. Acc: 79.57%\n",
      "\n",
      "======== Epoch 11 / 40 ========\n",
      "Epoch: 11 | Epoch Time: 0m 50s\n",
      "\tTrain Loss: 0.821 | Train Acc: 76.03%\n",
      "\t Val. Loss: 0.738 |  Val. Acc: 80.54%\n",
      "\n",
      "======== Epoch 12 / 40 ========\n",
      "Epoch: 12 | Epoch Time: 0m 50s\n",
      "\tTrain Loss: 0.799 | Train Acc: 76.44%\n",
      "\t Val. Loss: 0.685 |  Val. Acc: 80.76%\n",
      "\n",
      "======== Epoch 13 / 40 ========\n",
      "Epoch: 13 | Epoch Time: 0m 50s\n",
      "\tTrain Loss: 0.776 | Train Acc: 77.02%\n",
      "\t Val. Loss: 0.676 |  Val. Acc: 81.11%\n",
      "\n",
      "======== Epoch 14 / 40 ========\n",
      "Epoch: 14 | Epoch Time: 0m 50s\n",
      "\tTrain Loss: 0.765 | Train Acc: 77.19%\n",
      "\t Val. Loss: 0.652 |  Val. Acc: 82.25%\n",
      "\n",
      "======== Epoch 15 / 40 ========\n",
      "Epoch: 15 | Epoch Time: 0m 50s\n",
      "\tTrain Loss: 0.751 | Train Acc: 77.62%\n",
      "\t Val. Loss: 0.634 |  Val. Acc: 82.57%\n",
      "\n",
      "======== Epoch 16 / 40 ========\n",
      "Epoch: 16 | Epoch Time: 0m 50s\n",
      "\tTrain Loss: 0.740 | Train Acc: 77.90%\n",
      "\t Val. Loss: 0.612 |  Val. Acc: 83.11%\n",
      "\n",
      "======== Epoch 17 / 40 ========\n",
      "Epoch: 17 | Epoch Time: 0m 50s\n",
      "\tTrain Loss: 0.728 | Train Acc: 78.25%\n",
      "\t Val. Loss: 0.607 |  Val. Acc: 82.71%\n",
      "\n",
      "======== Epoch 18 / 40 ========\n",
      "Epoch: 18 | Epoch Time: 0m 49s\n",
      "\tTrain Loss: 0.722 | Train Acc: 78.45%\n",
      "\t Val. Loss: 0.608 |  Val. Acc: 82.81%\n",
      "\n",
      "======== Epoch 19 / 40 ========\n",
      "Epoch: 19 | Epoch Time: 0m 50s\n",
      "\tTrain Loss: 0.717 | Train Acc: 78.40%\n",
      "\t Val. Loss: 0.587 |  Val. Acc: 83.75%\n",
      "\n",
      "======== Epoch 20 / 40 ========\n",
      "Epoch: 20 | Epoch Time: 0m 49s\n",
      "\tTrain Loss: 0.707 | Train Acc: 78.73%\n",
      "\t Val. Loss: 0.585 |  Val. Acc: 83.98%\n",
      "\n",
      "======== Epoch 21 / 40 ========\n",
      "Epoch: 21 | Epoch Time: 0m 50s\n",
      "\tTrain Loss: 0.703 | Train Acc: 78.86%\n",
      "\t Val. Loss: 0.600 |  Val. Acc: 82.81%\n",
      "\n",
      "======== Epoch 22 / 40 ========\n",
      "Epoch: 22 | Epoch Time: 0m 50s\n",
      "\tTrain Loss: 0.701 | Train Acc: 78.88%\n",
      "\t Val. Loss: 0.572 |  Val. Acc: 84.20%\n",
      "\n",
      "======== Epoch 23 / 40 ========\n",
      "Epoch: 23 | Epoch Time: 0m 50s\n",
      "\tTrain Loss: 0.697 | Train Acc: 79.13%\n",
      "\t Val. Loss: 0.577 |  Val. Acc: 83.49%\n",
      "\n",
      "======== Epoch 24 / 40 ========\n",
      "Epoch: 24 | Epoch Time: 0m 50s\n",
      "\tTrain Loss: 0.690 | Train Acc: 79.18%\n",
      "\t Val. Loss: 0.583 |  Val. Acc: 82.99%\n",
      "\n",
      "======== Epoch 25 / 40 ========\n",
      "Epoch: 25 | Epoch Time: 0m 50s\n",
      "\tTrain Loss: 0.686 | Train Acc: 79.46%\n",
      "\t Val. Loss: 0.564 |  Val. Acc: 84.04%\n",
      "\n",
      "======== Epoch 26 / 40 ========\n",
      "Epoch: 26 | Epoch Time: 0m 50s\n",
      "\tTrain Loss: 0.689 | Train Acc: 79.27%\n",
      "\t Val. Loss: 0.562 |  Val. Acc: 84.07%\n",
      "\n",
      "======== Epoch 27 / 40 ========\n",
      "Epoch: 27 | Epoch Time: 0m 49s\n",
      "\tTrain Loss: 0.686 | Train Acc: 79.31%\n",
      "\t Val. Loss: 0.561 |  Val. Acc: 83.88%\n",
      "\n",
      "======== Epoch 28 / 40 ========\n",
      "Epoch: 28 | Epoch Time: 0m 49s\n",
      "\tTrain Loss: 0.678 | Train Acc: 79.55%\n",
      "\t Val. Loss: 0.558 |  Val. Acc: 84.20%\n",
      "\n",
      "======== Epoch 29 / 40 ========\n",
      "Epoch: 29 | Epoch Time: 0m 50s\n",
      "\tTrain Loss: 0.679 | Train Acc: 79.53%\n",
      "\t Val. Loss: 0.554 |  Val. Acc: 84.16%\n",
      "\n",
      "======== Epoch 30 / 40 ========\n",
      "Epoch: 30 | Epoch Time: 0m 50s\n",
      "\tTrain Loss: 0.679 | Train Acc: 79.48%\n",
      "\t Val. Loss: 0.555 |  Val. Acc: 84.31%\n",
      "\n",
      "======== Epoch 31 / 40 ========\n",
      "Epoch: 31 | Epoch Time: 0m 50s\n",
      "\tTrain Loss: 0.675 | Train Acc: 79.68%\n",
      "\t Val. Loss: 0.544 |  Val. Acc: 84.80%\n",
      "\n",
      "======== Epoch 32 / 40 ========\n",
      "Epoch: 32 | Epoch Time: 0m 50s\n",
      "\tTrain Loss: 0.673 | Train Acc: 79.70%\n",
      "\t Val. Loss: 0.542 |  Val. Acc: 84.68%\n",
      "\n",
      "======== Epoch 33 / 40 ========\n",
      "Epoch: 33 | Epoch Time: 0m 50s\n",
      "\tTrain Loss: 0.669 | Train Acc: 79.74%\n",
      "\t Val. Loss: 0.539 |  Val. Acc: 84.66%\n",
      "\n",
      "======== Epoch 34 / 40 ========\n",
      "Epoch: 34 | Epoch Time: 0m 49s\n",
      "\tTrain Loss: 0.666 | Train Acc: 79.93%\n",
      "\t Val. Loss: 0.537 |  Val. Acc: 84.91%\n",
      "\n",
      "======== Epoch 35 / 40 ========\n",
      "Epoch: 35 | Epoch Time: 0m 50s\n",
      "\tTrain Loss: 0.667 | Train Acc: 79.84%\n",
      "\t Val. Loss: 0.534 |  Val. Acc: 85.24%\n",
      "\n",
      "======== Epoch 36 / 40 ========\n",
      "Epoch: 36 | Epoch Time: 0m 49s\n",
      "\tTrain Loss: 0.664 | Train Acc: 79.91%\n",
      "\t Val. Loss: 0.546 |  Val. Acc: 84.84%\n",
      "\n",
      "======== Epoch 37 / 40 ========\n",
      "Epoch: 37 | Epoch Time: 0m 50s\n",
      "\tTrain Loss: 0.664 | Train Acc: 79.91%\n",
      "\t Val. Loss: 0.531 |  Val. Acc: 85.26%\n",
      "\n",
      "======== Epoch 38 / 40 ========\n",
      "Epoch: 38 | Epoch Time: 0m 50s\n",
      "\tTrain Loss: 0.664 | Train Acc: 80.00%\n",
      "\t Val. Loss: 0.527 |  Val. Acc: 85.30%\n",
      "\n",
      "======== Epoch 39 / 40 ========\n",
      "Epoch: 39 | Epoch Time: 0m 49s\n",
      "\tTrain Loss: 0.662 | Train Acc: 80.01%\n",
      "\t Val. Loss: 0.549 |  Val. Acc: 84.67%\n",
      "\n",
      "======== Epoch 40 / 40 ========\n",
      "Epoch: 40 | Epoch Time: 0m 50s\n",
      "\tTrain Loss: 0.661 | Train Acc: 80.06%\n",
      "\t Val. Loss: 0.529 |  Val. Acc: 85.60%\n"
     ]
    }
   ],
   "source": [
    "best_valid_loss = float('inf')\n",
    "for epoch in range(N_EPOCHS):\n",
    "    print(\"\")\n",
    "    print('======== Epoch {:} / {:} ========'.format(epoch+1, N_EPOCHS))\n",
    "    \n",
    "    start_time = time.time()\n",
    "    \n",
    "    train_loss, train_acc = train(model, training_loader, optimizer, criterion, PAD_IDX)\n",
    "    valid_loss, valid_acc = evaluate(model, validating_loader, criterion, PAD_IDX)\n",
    "    \n",
    "    end_time = time.time()\n",
    "    \n",
    "    epoch_mins, epoch_secs = epoch_time(start_time, end_time)\n",
    "    \n",
    "    if valid_loss < best_valid_loss:\n",
    "        best_valid_loss = valid_loss\n",
    "        torch.save(model.state_dict(), 'postag-model.pt')\n",
    "        \n",
    "    print(f'Epoch: {epoch+1:02} | Epoch Time: {epoch_mins}m {epoch_secs}s')\n",
    "    print(f'\\tTrain Loss: {train_loss:.3f} | Train Acc: {train_acc*100:.2f}%')\n",
    "    print(f'\\t Val. Loss: {valid_loss:.3f} |  Val. Acc: {valid_acc*100:.2f}%')"
   ]
  },
  {
   "cell_type": "code",
   "execution_count": 25,
   "id": "c6960bec",
   "metadata": {},
   "outputs": [
    {
     "name": "stdout",
     "output_type": "stream",
     "text": [
      "Test Loss: 0.528 | Test Acc: 84.14%\n"
     ]
    }
   ],
   "source": [
    "model.load_state_dict(torch.load('postag-model.pt'))\n",
    "\n",
    "test_loss, test_acc = evaluate(model, testing_loader, criterion, PAD_IDX)\n",
    "\n",
    "print(f'Test Loss: {test_loss:.3f} | Test Acc: {test_acc*100:.2f}%')"
   ]
  }
 ],
 "metadata": {
  "kernelspec": {
   "display_name": "Python 3 (ipykernel)",
   "language": "python",
   "name": "python3"
  },
  "language_info": {
   "codemirror_mode": {
    "name": "ipython",
    "version": 3
   },
   "file_extension": ".py",
   "mimetype": "text/x-python",
   "name": "python",
   "nbconvert_exporter": "python",
   "pygments_lexer": "ipython3",
   "version": "3.8.12"
  }
 },
 "nbformat": 4,
 "nbformat_minor": 5
}
